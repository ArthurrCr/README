{
 "cells": [
  {
   "cell_type": "markdown",
   "metadata": {},
   "source": [
    "# Introdução à Ciência de Dados - UFPB\n",
    "Professor: Yuri Malheiros\n",
    "\n",
    "## NumPy"
   ]
  },
  {
   "cell_type": "markdown",
   "metadata": {},
   "source": [
    "Implemente a função `distance` abaixo. Ela deve receber dois pontos e retornar a distância euclidiana entre eles. Cada ponto é representado por um array do NumPy, por exemplo, `p1 = np.array([2,4])` representa o ponto com coordenadas x=2 e y=2."
   ]
  },
  {
   "cell_type": "code",
   "execution_count": 128,
   "metadata": {},
   "outputs": [
    {
     "name": "stdout",
     "output_type": "stream",
     "text": [
      "Digite o valor do ponto x1:1\n",
      "Digite o valor do ponto y1: 2\n",
      "Digite o valor do ponto x2:3\n",
      "Digite o valor do ponto y2:4\n",
      "2.83\n"
     ]
    }
   ],
   "source": [
    "import numpy as np\n",
    "import math\n",
    "\n",
    "def distance(p1, p2):\n",
    "    p1 = np.array([x1,y1])\n",
    "    p2 = np.array([x2,y2])\n",
    "    difer = p1 - p2\n",
    "    dist_euclid = np.dot(difer,difer)\n",
    "    return math.sqrt(dist_euclid)\n",
    "\n",
    "x1 = int(input(\"Digite o valor do ponto x1:\"))\n",
    "y1 = int(input(\"Digite o valor do ponto y1: \"))\n",
    "x2 = int(input(\"Digite o valor do ponto x2:\"))\n",
    "y2 = int(input(\"Digite o valor do ponto y2:\"))\n",
    "\n",
    "\n",
    "print('%.2f' % distance(p1, p2))\n",
    "    \n",
    "   \n",
    "\n",
    "   "
   ]
  },
  {
   "cell_type": "markdown",
   "metadata": {},
   "source": [
    "Implemente a função `n_distances` abaixo. Ela recebe um ponto (`p1`), como um array do NumPy, e uma lista de pontos (`points`), uma matriz do NumPy, onde cada linha representa um ponto.\n",
    "\n",
    "Esta função deve retornar a distância de `p1` para todos os pontos da matriz `points`. O retorno também é uma matriz, onde cada linha tem a distância de `p1` para o ponto daquela linha."
   ]
  },
  {
   "cell_type": "code",
   "execution_count": 153,
   "metadata": {},
   "outputs": [
    {
     "name": "stdout",
     "output_type": "stream",
     "text": [
      "Digite o valor do ponto x1:1\n",
      "Digite o valor do ponto y1: 2\n",
      "[3.605551275463989, 1.4142135623730951, 4.0, 9.055385138137417, 7.615773105863909]\n"
     ]
    }
   ],
   "source": [
    "def n_distances(p1, points):\n",
    "    p1 = np.array([x1,y1])\n",
    "    difer = p1 - points\n",
    "    dist_euclid = np.dot(difer,difer)\n",
    "    return math.sqrt(dist_euclid)\n",
    "\n",
    "dists = []\n",
    "x1 = int(input(\"Digite o valor do ponto x1: \"))\n",
    "y1 = int(input(\"Digite o valor do ponto y1: \"))\n",
    "\n",
    "\n",
    "for i in range(len(points)):\n",
    "    dists.append( n_distances(p1, points[i]))\n",
    "\n",
    "print(dists)\n",
    "\n",
    "    \n",
    "    "
   ]
  },
  {
   "cell_type": "markdown",
   "metadata": {},
   "source": [
    "# Teste"
   ]
  },
  {
   "cell_type": "code",
   "execution_count": 154,
   "metadata": {},
   "outputs": [
    {
     "name": "stdout",
     "output_type": "stream",
     "text": [
      "3 items had no tests:\n",
      "    __main__\n",
      "    __main__.distance\n",
      "    __main__.n_distances\n",
      "0 tests in 3 items.\n",
      "0 passed and 0 failed.\n",
      "Test passed.\n"
     ]
    },
    {
     "data": {
      "text/plain": [
       "TestResults(failed=0, attempted=0)"
      ]
     },
     "execution_count": 154,
     "metadata": {},
     "output_type": "execute_result"
    }
   ],
   "source": [
    "import doctest\n",
    "\n",
    "doctest.testmod(verbose=True)"
   ]
  },
  {
   "cell_type": "code",
   "execution_count": null,
   "metadata": {},
   "outputs": [],
   "source": []
  }
 ],
 "metadata": {
  "kernelspec": {
   "display_name": "Python 3",
   "language": "python",
   "name": "python3"
  },
  "language_info": {
   "codemirror_mode": {
    "name": "ipython",
    "version": 3
   },
   "file_extension": ".py",
   "mimetype": "text/x-python",
   "name": "python",
   "nbconvert_exporter": "python",
   "pygments_lexer": "ipython3",
   "version": "3.8.5"
  }
 },
 "nbformat": 4,
 "nbformat_minor": 4
}
