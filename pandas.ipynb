{
 "cells": [
  {
   "cell_type": "markdown",
   "metadata": {},
   "source": [
    "# Introdução à Ciência de Dados - UFPB\n",
    "Professor: Yuri Malheiros\n",
    "\n",
    "## Pandas"
   ]
  },
  {
   "cell_type": "markdown",
   "metadata": {},
   "source": [
    "A partir do dataset `movies.csv` utilize o Pandas para responder as seguintes perguntas:"
   ]
  },
  {
   "cell_type": "markdown",
   "metadata": {},
   "source": [
    "### Qual o gênero de filme mais lucrativo em todo o mundo?"
   ]
  },
  {
   "cell_type": "code",
   "execution_count": 49,
   "metadata": {},
   "outputs": [
    {
     "data": {
      "text/html": [
       "<div>\n",
       "<style scoped>\n",
       "    .dataframe tbody tr th:only-of-type {\n",
       "        vertical-align: middle;\n",
       "    }\n",
       "\n",
       "    .dataframe tbody tr th {\n",
       "        vertical-align: top;\n",
       "    }\n",
       "\n",
       "    .dataframe thead th {\n",
       "        text-align: right;\n",
       "    }\n",
       "</style>\n",
       "<table border=\"1\" class=\"dataframe\">\n",
       "  <thead>\n",
       "    <tr style=\"text-align: right;\">\n",
       "      <th></th>\n",
       "      <th>Major Genre</th>\n",
       "      <th>Worldwide Gross</th>\n",
       "    </tr>\n",
       "  </thead>\n",
       "  <tbody>\n",
       "    <tr>\n",
       "      <th>1234</th>\n",
       "      <td>Action</td>\n",
       "      <td>2.767891e+09</td>\n",
       "    </tr>\n",
       "    <tr>\n",
       "      <th>2970</th>\n",
       "      <td>Thriller/Suspense</td>\n",
       "      <td>1.842880e+09</td>\n",
       "    </tr>\n",
       "    <tr>\n",
       "      <th>2202</th>\n",
       "      <td>Adventure</td>\n",
       "      <td>1.133027e+09</td>\n",
       "    </tr>\n",
       "    <tr>\n",
       "      <th>2507</th>\n",
       "      <td>Adventure</td>\n",
       "      <td>1.065660e+09</td>\n",
       "    </tr>\n",
       "    <tr>\n",
       "      <th>2987</th>\n",
       "      <td>Adventure</td>\n",
       "      <td>1.046341e+09</td>\n",
       "    </tr>\n",
       "    <tr>\n",
       "      <th>...</th>\n",
       "      <td>...</td>\n",
       "      <td>...</td>\n",
       "    </tr>\n",
       "    <tr>\n",
       "      <th>266</th>\n",
       "      <td>NaN</td>\n",
       "      <td>NaN</td>\n",
       "    </tr>\n",
       "    <tr>\n",
       "      <th>404</th>\n",
       "      <td>NaN</td>\n",
       "      <td>NaN</td>\n",
       "    </tr>\n",
       "    <tr>\n",
       "      <th>467</th>\n",
       "      <td>NaN</td>\n",
       "      <td>NaN</td>\n",
       "    </tr>\n",
       "    <tr>\n",
       "      <th>1025</th>\n",
       "      <td>NaN</td>\n",
       "      <td>NaN</td>\n",
       "    </tr>\n",
       "    <tr>\n",
       "      <th>1028</th>\n",
       "      <td>NaN</td>\n",
       "      <td>NaN</td>\n",
       "    </tr>\n",
       "  </tbody>\n",
       "</table>\n",
       "<p>3201 rows × 2 columns</p>\n",
       "</div>"
      ],
      "text/plain": [
       "            Major Genre  Worldwide Gross\n",
       "1234             Action     2.767891e+09\n",
       "2970  Thriller/Suspense     1.842880e+09\n",
       "2202          Adventure     1.133027e+09\n",
       "2507          Adventure     1.065660e+09\n",
       "2987          Adventure     1.046341e+09\n",
       "...                 ...              ...\n",
       "266                 NaN              NaN\n",
       "404                 NaN              NaN\n",
       "467                 NaN              NaN\n",
       "1025                NaN              NaN\n",
       "1028                NaN              NaN\n",
       "\n",
       "[3201 rows x 2 columns]"
      ]
     },
     "execution_count": 49,
     "metadata": {},
     "output_type": "execute_result"
    }
   ],
   "source": [
    "import pandas as pd\n",
    "\n",
    "movies_df = pd.read_csv('C:\\\\Users\\\\Carol\\\\Downloads\\\\movies-Copy1.csv')\n",
    "\n",
    "movies_df.sort_values(by=\"Worldwide Gross\",ascending = False)[[\"Major Genre\",\"Worldwide Gross\"]]\n"
   ]
  },
  {
   "cell_type": "markdown",
   "metadata": {},
   "source": [
    "### Qual o diretor dirigiu mais filmes?"
   ]
  },
  {
   "cell_type": "code",
   "execution_count": 71,
   "metadata": {},
   "outputs": [
    {
     "data": {
      "text/plain": [
       "Steven Spielberg       23\n",
       "Woody Allen            16\n",
       "Spike Lee              15\n",
       "Martin Scorsese        15\n",
       "Ridley Scott           14\n",
       "                       ..\n",
       "Ryan Little             1\n",
       "Bill Paxton             1\n",
       "Tony Gilroy             1\n",
       "Paul Mazursky           1\n",
       "Ari S. Kirschenbaum     1\n",
       "Name: Director, Length: 550, dtype: int64"
      ]
     },
     "execution_count": 71,
     "metadata": {},
     "output_type": "execute_result"
    }
   ],
   "source": [
    "movies_df.Director.value_counts()"
   ]
  },
  {
   "cell_type": "markdown",
   "metadata": {},
   "source": [
    "### Quais filmes tiverem os maiores arrecadações (Gross) em relação ao orçamento de produção (Budget)?"
   ]
  },
  {
   "cell_type": "code",
   "execution_count": 85,
   "metadata": {},
   "outputs": [],
   "source": [
    "movies_df[\"arrecadação\"] = movies_df[\"Worldwide Gross\"] - movies_df[\"Production Budget\"]"
   ]
  },
  {
   "cell_type": "code",
   "execution_count": 86,
   "metadata": {},
   "outputs": [
    {
     "data": {
      "text/html": [
       "<div>\n",
       "<style scoped>\n",
       "    .dataframe tbody tr th:only-of-type {\n",
       "        vertical-align: middle;\n",
       "    }\n",
       "\n",
       "    .dataframe tbody tr th {\n",
       "        vertical-align: top;\n",
       "    }\n",
       "\n",
       "    .dataframe thead th {\n",
       "        text-align: right;\n",
       "    }\n",
       "</style>\n",
       "<table border=\"1\" class=\"dataframe\">\n",
       "  <thead>\n",
       "    <tr style=\"text-align: right;\">\n",
       "      <th></th>\n",
       "      <th>Title</th>\n",
       "      <th>Worldwide Gross</th>\n",
       "      <th>Production Budget</th>\n",
       "      <th>arrecadação</th>\n",
       "    </tr>\n",
       "  </thead>\n",
       "  <tbody>\n",
       "    <tr>\n",
       "      <th>1234</th>\n",
       "      <td>Avatar</td>\n",
       "      <td>2.767891e+09</td>\n",
       "      <td>237000000.0</td>\n",
       "      <td>2.530891e+09</td>\n",
       "    </tr>\n",
       "    <tr>\n",
       "      <th>2970</th>\n",
       "      <td>Titanic</td>\n",
       "      <td>1.842880e+09</td>\n",
       "      <td>200000000.0</td>\n",
       "      <td>1.642880e+09</td>\n",
       "    </tr>\n",
       "    <tr>\n",
       "      <th>2202</th>\n",
       "      <td>The Lord of the Rings: The Return of the King</td>\n",
       "      <td>1.133027e+09</td>\n",
       "      <td>94000000.0</td>\n",
       "      <td>1.039027e+09</td>\n",
       "    </tr>\n",
       "    <tr>\n",
       "      <th>485</th>\n",
       "      <td>Jurassic Park</td>\n",
       "      <td>9.230679e+08</td>\n",
       "      <td>63000000.0</td>\n",
       "      <td>8.600679e+08</td>\n",
       "    </tr>\n",
       "    <tr>\n",
       "      <th>1975</th>\n",
       "      <td>Harry Potter and the Sorcerer's Stone</td>\n",
       "      <td>9.764579e+08</td>\n",
       "      <td>125000000.0</td>\n",
       "      <td>8.514579e+08</td>\n",
       "    </tr>\n",
       "    <tr>\n",
       "      <th>...</th>\n",
       "      <td>...</td>\n",
       "      <td>...</td>\n",
       "      <td>...</td>\n",
       "      <td>...</td>\n",
       "    </tr>\n",
       "    <tr>\n",
       "      <th>404</th>\n",
       "      <td>Hell's Angels</td>\n",
       "      <td>NaN</td>\n",
       "      <td>4000000.0</td>\n",
       "      <td>NaN</td>\n",
       "    </tr>\n",
       "    <tr>\n",
       "      <th>467</th>\n",
       "      <td>Intolerance</td>\n",
       "      <td>NaN</td>\n",
       "      <td>385907.0</td>\n",
       "      <td>NaN</td>\n",
       "    </tr>\n",
       "    <tr>\n",
       "      <th>1025</th>\n",
       "      <td>Waterloo</td>\n",
       "      <td>NaN</td>\n",
       "      <td>25000000.0</td>\n",
       "      <td>NaN</td>\n",
       "    </tr>\n",
       "    <tr>\n",
       "      <th>1028</th>\n",
       "      <td>Wings</td>\n",
       "      <td>NaN</td>\n",
       "      <td>2000000.0</td>\n",
       "      <td>NaN</td>\n",
       "    </tr>\n",
       "    <tr>\n",
       "      <th>1271</th>\n",
       "      <td>Baby Mama</td>\n",
       "      <td>6.439148e+07</td>\n",
       "      <td>NaN</td>\n",
       "      <td>NaN</td>\n",
       "    </tr>\n",
       "  </tbody>\n",
       "</table>\n",
       "<p>3201 rows × 4 columns</p>\n",
       "</div>"
      ],
      "text/plain": [
       "                                              Title  Worldwide Gross  \\\n",
       "1234                                         Avatar     2.767891e+09   \n",
       "2970                                        Titanic     1.842880e+09   \n",
       "2202  The Lord of the Rings: The Return of the King     1.133027e+09   \n",
       "485                                   Jurassic Park     9.230679e+08   \n",
       "1975          Harry Potter and the Sorcerer's Stone     9.764579e+08   \n",
       "...                                             ...              ...   \n",
       "404                                   Hell's Angels              NaN   \n",
       "467                                     Intolerance              NaN   \n",
       "1025                                       Waterloo              NaN   \n",
       "1028                                          Wings              NaN   \n",
       "1271                                      Baby Mama     6.439148e+07   \n",
       "\n",
       "      Production Budget   arrecadação  \n",
       "1234        237000000.0  2.530891e+09  \n",
       "2970        200000000.0  1.642880e+09  \n",
       "2202         94000000.0  1.039027e+09  \n",
       "485          63000000.0  8.600679e+08  \n",
       "1975        125000000.0  8.514579e+08  \n",
       "...                 ...           ...  \n",
       "404           4000000.0           NaN  \n",
       "467            385907.0           NaN  \n",
       "1025         25000000.0           NaN  \n",
       "1028          2000000.0           NaN  \n",
       "1271                NaN           NaN  \n",
       "\n",
       "[3201 rows x 4 columns]"
      ]
     },
     "execution_count": 86,
     "metadata": {},
     "output_type": "execute_result"
    }
   ],
   "source": [
    "movies_df.sort_values(by=\"arrecadação\",ascending = False)[[\"Title\",\"Worldwide Gross\",\"Production Budget\",\"arrecadação\"]]\n"
   ]
  },
  {
   "cell_type": "code",
   "execution_count": 87,
   "metadata": {},
   "outputs": [
    {
     "name": "stdout",
     "output_type": "stream",
     "text": [
      "Files in 'C:\\\\Users\\\\Carol\\\\Downloads': ['.ipynb_checkpoints', '1615422167554.pdf', '1ª lista de exercícios (2).docx', '6090219781480191.zip', 'advanced-systemcare-setup.exe', 'Anaconda3-2020.11-Windows-x86.exe', 'Apresentao_sem_ttulo.pptx', 'Armistice(MP3_160K).mp3', 'Atividade Final - Arte e Museu.pdf', 'Atividade Final - Arte e Museu.pptx', 'Atividade Final Arte e Artesanato.docx', 'Atividade Final Arte e Artesanato.pdf', 'Av1TP (1).pdf', 'Bicola-install-1.0.95.exe', 'caderno de exercícios 2 - cálculo I.pdf', 'Carol Fogaça.pdf', 'Carol Fogaça.pptx', 'ccsetup577.exe', 'Certificado_carolina_fogaca_de_araujo_chitolina.pdf', 'CERTIFICADO_PROEX_61704 (1).pdf', 'CERTIFICADO_PROEX_61704.pdf', 'CERTIFICADO_PROEX_62039.pdf', 'CERTIFICADO_PROEX_74565.pdf', 'clouds___mist_photoshop_and_gimp_brushes_by_redheadstock_daju35.zip', 'codeblocks-20.03-setup.exe', 'codeblocks-20.03mingw-setup.exe', 'César Clemente Advogado - Logotipo - v02 - Transparente.psd', 'ddaa.png', 'declaracao_20190024716.pdf', 'desktop.ini', 'DJ2540_188.exe', 'DJ2540_Basicx64_188.exe', 'Exerccio_-_NumPy (1).ipynb', 'Exerccio_-_NumPy.ipynb', 'Exerccio_-_Pandas (1).ipynb', 'Exerccio_-_Pandas (2).ipynb', 'Exerccio_-_Pandas.ipynb', 'Exerccio_-_Python_-_Listas.ipynb', 'Exerccio_-_Python_-_Random (1).ipynb', 'Exerccio_-_Python_-_Random.ipynb', 'exe_numpy.ipynb', 'Firefox Installer.exe', 'icd-master.zip', 'IMG_20200718_100008_478.jpg', 'IMVUApp-BETA-7.3.14.exe', 'Judite-de-Holofernes_-Artemisia.-Por-Carolina-Fog.mp3', 'KVRT.exe', 'Leitura Thierry de Lima.docx', 'Leitura Thierry de Lima.pdf', 'Lista01-Sequencias.pdf', 'listagem-alunos-aprovado-579.csv', 'macro-recorder-5-7-7-en-win.exe', 'Mary.pdf', 'mingw-get-setup.exe', 'movies-Copy1.csv', 'OpenAccess-CIPINIUK-9788580392685.pdf', 'OpenAccess-FONSECA-9788580391978.pdf', 'pandas.ipynb', 'Prova_1--I-L.pdf', 'Prova_1_IC.docx.pdf', 'python-3.8.9.exe', 'Random.ipynb', 'RESENHA MARIA BONITA ITC.docx', 'sentimento azul.pdf', 'Sequencia.pdf', 'Sequencias.py', 'SIMULADOR DE RENDIMENTOS PARA O DINHEIRO DO DIA A DIA (2) (1).xlsx', 'SIMULADOR DE RENDIMENTOS PARA O DINHEIRO DO DIA A DIA (2).xlsx', 'SketchBook_8.7.1.0_Win64.exe', 'Spyder_64bit_full.exe', 'tabela.docx', 'TunnelBear-Installer.exe', 'Txt_FláviaMuseudeArtenoBrasil.pdf', 'Untitled.ipynb', 'Untitled1.ipynb', 'WacomTablet_6.3.42-2.exe', 'Windows6.1-KB2999226-x64.msu']\n"
     ]
    }
   ],
   "source": [
    "import os\n",
    "\n",
    "cwd = os.getcwd()  # Get the current working directory (cwd)\n",
    "files = os.listdir(cwd)  # Get all the files in that directory\n",
    "print(\"Files in %r: %s\" % (cwd, files))"
   ]
  },
  {
   "cell_type": "code",
   "execution_count": null,
   "metadata": {},
   "outputs": [],
   "source": []
  }
 ],
 "metadata": {
  "kernelspec": {
   "display_name": "Python 3",
   "language": "python",
   "name": "python3"
  },
  "language_info": {
   "codemirror_mode": {
    "name": "ipython",
    "version": 3
   },
   "file_extension": ".py",
   "mimetype": "text/x-python",
   "name": "python",
   "nbconvert_exporter": "python",
   "pygments_lexer": "ipython3",
   "version": "3.8.5"
  }
 },
 "nbformat": 4,
 "nbformat_minor": 4
}
